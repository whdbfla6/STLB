{
 "cells": [
  {
   "cell_type": "code",
   "execution_count": 1,
   "metadata": {},
   "outputs": [],
   "source": [
    "import pandas as pd"
   ]
  },
  {
   "cell_type": "code",
   "execution_count": 2,
   "metadata": {},
   "outputs": [],
   "source": [
    "data = pd.read_csv('data/final_merged_by_day_v6.csv')\n",
    "columns = ['base_date', 'emd_nm', 'pay_amt', 'city','em_cnt',\n",
    "       'holidays', 'korean_resd_pop', 'foreign_resd_pop', 'total_resd_pop','foreign_resd_ratio',\n",
    "       'work_pop_jeju', 'work_pop_etc', 'visit_pop_jeju', 'visit_pop_etc','resd_jeju',\n",
    "       '유형1_cnt', '유형1_amt', '유형2_cnt','유형2_amt', '유형3_cnt', '유형3_amt', '농축수산물_cnt', \n",
    "       '농축수산물_amt', '배달_cnt','배달_amt', '배달_ratio',\n",
    "       '검색_관광', '검색_쇼핑', '검색_쓰레기', '검색_한파', '검색_강풍', '검색_태풍',\n",
    "       '검색_장마', '검색_폭염', '검색_우박', '검색_날씨', '검색_미세먼지', '검색_황사', \n",
    "       '읍면동별검색_생활','읍면동별검색_관광', '읍면동별검색_쇼핑','em_g']\n",
    "data = data[columns]"
   ]
  },
  {
   "cell_type": "markdown",
   "metadata": {},
   "source": [
    "```\n",
    "읍면동별_dic = {'읍면동별검색_생활' : '동사무소,우체국,보건소,주민센터,약국,병원,문화센터,도서관,이비인후과,내과,치과,산부인과,소아과,노래방,코인노래방,편의점',\n",
    "                 '읍면동별검색_관광' : '여행,관광지,숙박,숙소,펜션,게스트하우스,호텔,에어비엔비,맛집,혼밥,카페,해변,해수욕장,골프장,날씨,가볼만한곳,코스,기념품,일몰,당일치기',\n",
    "                 '읍면동별검색_쇼핑' : '다이소,홈플러스,이마트,백화점,아울렛,쇼핑몰,면세점,대형마트,마트,쇼핑'\n",
    "                }\n",
    "\n",
    "검색_dic = {'검색_관광' :'제주여행,제주맛집,제주펜션,제주술집,제주에어비앤비,제주가볼만한곳,제주항공,제주에어,제주비행기,제주항공가격,제주날씨,제주드라이브,제주일몰,제주면세점,제주롯데면세점,제주액티비티,제주렌트카,제주2박3일일정',\n",
    "             '검색_관광2' : '제주도여행,제주도맛집,제주도펜션,제주도술집,제주도에어비앤비,제주도가볼만한곳,제주도항공,제주도에어,제주도비행기,제주도항공가격,제주도날씨,제주도드라이브,제주도일몰,제주도면세점,제주도롯데면세점,제주도액티비티,제주도렌트카,제주도2박3일일정',\n",
    "             '검색_쇼핑' : '제주다이소,제주홈플러스,제주이마트,제주백화점,제주아울렛,제주쇼핑몰,제주면세점,제주대형마트,제주마트,제주쇼핑,제주도다이소,제주도홈플러스,제주도이마트,제주도백화점,제주도아울렛,제주도쇼핑몰,제주도면세점,제주도대형마트,제주도마트,제주도쇼핑',\n",
    "             '검색_쓰레기' : '제주쓰레기,제주음식물쓰레기,제주매립장,제주일회용품,제주생활쓰레기,제주종량제,제주분리수거,제주클린하우스,제주재활용,제주플라스틱,제주폐기물',\n",
    "             '검색_쓰레기2' : '제주도쓰레기,제주도음식물쓰레기,제주도매립장,제주도일회용품,제주도생활쓰레기,제주도종량제,제주도분리수거,제주도클린하우스,제주도재활용,제주도플라스틱,제주도폐기물',\n",
    "             '검색_한파' : '제주폭설,제주강풍,제주한파,제주도폭설,제주도강풍,제주도한파',\n",
    "             '검색_강풍' : '제주도강풍,제주강풍',\n",
    "             '검색_태풍' : '제주도태풍,제주도폭풍,제주도해일,제주태풍,제주폭풍,제주해일,솔릭,콩레이,타파,폭우,마이삭,루핏,오마이스',\n",
    "             '검색_장마' : '제주장마,제주호우주의보,제주호우주의,제주비,제주도장마,제주도호우주의보,제주도호우주의,제주도비',\n",
    "             '검색_폭염' : '제주폭염, 제주더위, 제주열대야, 제주기온,제주도폭염, 제주도더위, 제주도열대야, 제주도기온',\n",
    "             '검색_우박' : '제주우박,제주도우박',\n",
    "             '검색_날씨' : '제주날씨, 제주도날씨',\n",
    "             '검색_미세먼지' : '제주미세먼지, 제주미세미세, 제주도미세먼지, 제주도미세미세',\n",
    "             '검색_황사' : '제주황사,제주도황사'}\n",
    "```"
   ]
  },
  {
   "cell_type": "code",
   "execution_count": 3,
   "metadata": {},
   "outputs": [],
   "source": [
    "# 데이터 셋 구축\n",
    "period = 7\n",
    "emd_nm = '한림읍'\n",
    "\n",
    "tmp = data[data['emd_nm']==emd_nm].reset_index(drop=True)\n",
    "tmp = tmp.set_index('base_date')\n",
    "tmp.index = pd.to_datetime(tmp.index)\n",
    "tmp = tmp.drop(['emd_nm','city'],axis=1)\n",
    "\n",
    "train = tmp[:-20]\n",
    "test = tmp[-20:]\n",
    "\n",
    "train_X = train.drop('em_g',axis=1).values\n",
    "train_y = train['em_g']\n",
    "test_X = test.drop('em_g',axis=1).values\n",
    "test_y = test['em_g']"
   ]
  },
  {
   "cell_type": "code",
   "execution_count": 4,
   "metadata": {},
   "outputs": [
    {
     "name": "stdout",
     "output_type": "stream",
     "text": [
      "[2360129.63545609 2366558.66738173 2389050.68148287 2401070.84775533\n",
      " 2374637.59497613 2384634.91414091 2345131.24764896 2395293.78494896\n",
      " 2379868.5412865  2399000.08384952 2380078.23005635 2347738.89366249\n",
      " 2344215.91515385 2286719.75220633 2313889.42154314 2318708.80698319\n",
      " 2342805.73654643 2332347.91448056 2331066.73699972 2336830.07470313]\n",
      "error: 588628.2361215538\n"
     ]
    }
   ],
   "source": [
    "from module.stlb import stlb\n",
    "import numpy as np\n",
    "from sklearn.metrics import mean_squared_error as mse\n",
    "\n",
    "model = stlb(train_X,train_y,test_X)\n",
    "model.fit()\n",
    "pred = model.predict()\n",
    "print(pred)\n",
    "print('error: {}'.format(np.sqrt(mse(test_y,pred))))"
   ]
  },
  {
   "cell_type": "code",
   "execution_count": null,
   "metadata": {},
   "outputs": [],
   "source": []
  }
 ],
 "metadata": {
  "kernelspec": {
   "display_name": "Python 3.9.7 ('base')",
   "language": "python",
   "name": "python3"
  },
  "language_info": {
   "codemirror_mode": {
    "name": "ipython",
    "version": 3
   },
   "file_extension": ".py",
   "mimetype": "text/x-python",
   "name": "python",
   "nbconvert_exporter": "python",
   "pygments_lexer": "ipython3",
   "version": "3.9.7"
  },
  "orig_nbformat": 4,
  "vscode": {
   "interpreter": {
    "hash": "6800ace6a7bb11c94b22d8e8c573c9b7ddf29bc2def4f266cfe13c797e2948b9"
   }
  }
 },
 "nbformat": 4,
 "nbformat_minor": 2
}
